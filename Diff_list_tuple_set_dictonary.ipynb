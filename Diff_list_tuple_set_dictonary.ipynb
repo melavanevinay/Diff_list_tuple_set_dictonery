{
 "cells": [
  {
   "cell_type": "markdown",
   "id": "0cee1d50-902c-4f7b-bc53-e15cba128a27",
   "metadata": {},
   "source": [
    "# List :"
   ]
  },
  {
   "cell_type": "markdown",
   "id": "9c0922b7-824f-4347-9e3f-e463adec11b4",
   "metadata": {},
   "source": [
    "## 1. List items are ordered.\n",
    "### List items are orderes means the items has a defined order, which cannot be changed\n",
    "\n",
    "## 2. List items are mutable.(changable)\n",
    "### List items are changable  means we can add, remove, change items in list.\n",
    "\n",
    "## 3. List allows duplicate items.\n",
    "\n",
    "## 4. List item can be any data type."
   ]
  },
  {
   "cell_type": "markdown",
   "id": "8071d8f5-de7f-49cd-b14b-1dc15af15f28",
   "metadata": {},
   "source": [
    "# Tuple :"
   ]
  },
  {
   "cell_type": "markdown",
   "id": "7d863acd-61b8-40be-9e7f-b8ab3c87e464",
   "metadata": {},
   "source": [
    "## 1. Tuple items are ordered.\n",
    "## 2. Tuple items are immutable.\n",
    "## 3. Tuple allows duplicate values.\n",
    "## 4. Tuple item can be any data type."
   ]
  },
  {
   "cell_type": "markdown",
   "id": "75b082a9-22d8-4017-b2f7-60b760b19a6b",
   "metadata": {},
   "source": [
    "#  Set :"
   ]
  },
  {
   "cell_type": "markdown",
   "id": "d129a233-69b2-426b-adc6-48fa7ef84581",
   "metadata": {},
   "source": [
    "## 1. Set items are unordered.\n",
    "## 2. Sets are immutable.\n",
    "## 3. Set does not allow duplicate values.\n",
    "## 4. Set items can not be indexed.\n"
   ]
  },
  {
   "cell_type": "markdown",
   "id": "6977583c-4fec-4141-9806-ea04f328941f",
   "metadata": {},
   "source": [
    "# Dictonary :"
   ]
  },
  {
   "cell_type": "markdown",
   "id": "0318c6f1-6dad-4e67-98a6-fa77b7c8aeff",
   "metadata": {},
   "source": [
    "## 1. Dictonary items are ordered.\n",
    "## 2. It does not allow duplicate key values.\n",
    "## 3. Dictonaries are mutable.\n",
    "## 4. Dictonary items are presented in key : value pair."
   ]
  },
  {
   "cell_type": "code",
   "execution_count": null,
   "id": "25055448-2c14-4606-ae8f-51eb2cbfde6f",
   "metadata": {},
   "outputs": [],
   "source": []
  }
 ],
 "metadata": {
  "kernelspec": {
   "display_name": "Python 3 (ipykernel)",
   "language": "python",
   "name": "python3"
  },
  "language_info": {
   "codemirror_mode": {
    "name": "ipython",
    "version": 3
   },
   "file_extension": ".py",
   "mimetype": "text/x-python",
   "name": "python",
   "nbconvert_exporter": "python",
   "pygments_lexer": "ipython3",
   "version": "3.10.8"
  }
 },
 "nbformat": 4,
 "nbformat_minor": 5
}
